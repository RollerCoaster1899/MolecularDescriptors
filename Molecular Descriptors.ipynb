{
 "cells": [
  {
   "cell_type": "code",
   "execution_count": null,
   "id": "8f40018f-a891-4704-9d08-75bd1c022777",
   "metadata": {},
   "outputs": [],
   "source": [
    "#Install and import libraries"
   ]
  },
  {
   "cell_type": "code",
   "execution_count": 1,
   "id": "558fe6a3-07dd-42c7-bc61-f3fa3a554a82",
   "metadata": {},
   "outputs": [
    {
     "name": "stdout",
     "output_type": "stream",
     "text": [
      "Requirement already satisfied: padelpy in /home/raulacosta/anaconda3/lib/python3.9/site-packages (0.1.13)\n"
     ]
    }
   ],
   "source": [
    "!pip install padelpy"
   ]
  },
  {
   "cell_type": "code",
   "execution_count": 2,
   "id": "1cad7b31-9719-4025-95ce-28200e4c61a3",
   "metadata": {},
   "outputs": [],
   "source": [
    "import pandas as pd\n",
    "from padelpy import from_smiles"
   ]
  },
  {
   "cell_type": "code",
   "execution_count": null,
   "id": "d3727276-dd80-4424-8f9f-207e5fdcb426",
   "metadata": {},
   "outputs": [],
   "source": [
    "#Load csv file from ZINC database"
   ]
  },
  {
   "cell_type": "code",
   "execution_count": 3,
   "id": "3e7314e9-1537-4ba0-a5f3-83725bb6d9c5",
   "metadata": {},
   "outputs": [
    {
     "data": {
      "text/html": [
       "<div>\n",
       "<style scoped>\n",
       "    .dataframe tbody tr th:only-of-type {\n",
       "        vertical-align: middle;\n",
       "    }\n",
       "\n",
       "    .dataframe tbody tr th {\n",
       "        vertical-align: top;\n",
       "    }\n",
       "\n",
       "    .dataframe thead th {\n",
       "        text-align: right;\n",
       "    }\n",
       "</style>\n",
       "<table border=\"1\" class=\"dataframe\">\n",
       "  <thead>\n",
       "    <tr style=\"text-align: right;\">\n",
       "      <th></th>\n",
       "      <th>zinc_id</th>\n",
       "      <th>smiles</th>\n",
       "    </tr>\n",
       "  </thead>\n",
       "  <tbody>\n",
       "    <tr>\n",
       "      <th>0</th>\n",
       "      <td>ZINC000001530427</td>\n",
       "      <td>C[C@@H]1O[C@@H]1P(=O)(O)O</td>\n",
       "    </tr>\n",
       "    <tr>\n",
       "      <th>1</th>\n",
       "      <td>ZINC000003807804</td>\n",
       "      <td>Clc1ccccc1C(c1ccccc1)(c1ccccc1)n1ccnc1</td>\n",
       "    </tr>\n",
       "    <tr>\n",
       "      <th>2</th>\n",
       "      <td>ZINC000000120286</td>\n",
       "      <td>Nc1nc(N)c2nc(-c3ccccc3)c(N)nc2n1</td>\n",
       "    </tr>\n",
       "    <tr>\n",
       "      <th>3</th>\n",
       "      <td>ZINC000242548690</td>\n",
       "      <td>C[C@H]1O[C@@H](O[C@H]2[C@@H](O)C[C@H](O[C@H]3[...</td>\n",
       "    </tr>\n",
       "    <tr>\n",
       "      <th>4</th>\n",
       "      <td>ZINC000000008492</td>\n",
       "      <td>Oc1cccc2cccnc12</td>\n",
       "    </tr>\n",
       "    <tr>\n",
       "      <th>...</th>\n",
       "      <td>...</td>\n",
       "      <td>...</td>\n",
       "    </tr>\n",
       "    <tr>\n",
       "      <th>1610</th>\n",
       "      <td>ZINC000022010387</td>\n",
       "      <td>C[C@H]1[C@H](c2ccccc2)OCCN1C</td>\n",
       "    </tr>\n",
       "    <tr>\n",
       "      <th>1611</th>\n",
       "      <td>ZINC000022448097</td>\n",
       "      <td>CCOc1ccc(C[C@@H](CN(CCN(CC(=O)O)CC(=O)O)CC(=O)...</td>\n",
       "    </tr>\n",
       "    <tr>\n",
       "      <th>1612</th>\n",
       "      <td>ZINC000100370145</td>\n",
       "      <td>CC1(C)[C@H]2CC[C@@]1(CS(=O)(=O)O)C(=O)/C2=C/c1...</td>\n",
       "    </tr>\n",
       "    <tr>\n",
       "      <th>1613</th>\n",
       "      <td>ZINC000059111167</td>\n",
       "      <td>[C-]#[N+]CC(C)(C)OC</td>\n",
       "    </tr>\n",
       "    <tr>\n",
       "      <th>1614</th>\n",
       "      <td>ZINC000169621219</td>\n",
       "      <td>C=C1C[C@@H]2CC[C@@]34C[C@H]5O[C@H]6[C@@H](O3)[...</td>\n",
       "    </tr>\n",
       "  </tbody>\n",
       "</table>\n",
       "<p>1615 rows × 2 columns</p>\n",
       "</div>"
      ],
      "text/plain": [
       "               zinc_id                                             smiles\n",
       "0     ZINC000001530427                          C[C@@H]1O[C@@H]1P(=O)(O)O\n",
       "1     ZINC000003807804             Clc1ccccc1C(c1ccccc1)(c1ccccc1)n1ccnc1\n",
       "2     ZINC000000120286                   Nc1nc(N)c2nc(-c3ccccc3)c(N)nc2n1\n",
       "3     ZINC000242548690  C[C@H]1O[C@@H](O[C@H]2[C@@H](O)C[C@H](O[C@H]3[...\n",
       "4     ZINC000000008492                                    Oc1cccc2cccnc12\n",
       "...                ...                                                ...\n",
       "1610  ZINC000022010387                       C[C@H]1[C@H](c2ccccc2)OCCN1C\n",
       "1611  ZINC000022448097  CCOc1ccc(C[C@@H](CN(CCN(CC(=O)O)CC(=O)O)CC(=O)...\n",
       "1612  ZINC000100370145  CC1(C)[C@H]2CC[C@@]1(CS(=O)(=O)O)C(=O)/C2=C/c1...\n",
       "1613  ZINC000059111167                                [C-]#[N+]CC(C)(C)OC\n",
       "1614  ZINC000169621219  C=C1C[C@@H]2CC[C@@]34C[C@H]5O[C@H]6[C@@H](O3)[...\n",
       "\n",
       "[1615 rows x 2 columns]"
      ]
     },
     "execution_count": 3,
     "metadata": {},
     "output_type": "execute_result"
    }
   ],
   "source": [
    "df = pd.read_csv(\"fda.csv\")\n",
    "df"
   ]
  },
  {
   "cell_type": "code",
   "execution_count": null,
   "id": "c1d2d5b3-0943-427c-8321-b35315787d1f",
   "metadata": {},
   "outputs": [],
   "source": [
    "#Create csv header"
   ]
  },
  {
   "cell_type": "code",
   "execution_count": 5,
   "id": "cdc3d973-8f3d-4c1c-a65f-6d67dd8a7334",
   "metadata": {},
   "outputs": [],
   "source": [
    "descriptors = from_smiles(df.iloc[1,1], fingerprints=True, descriptors=False)\n",
    "descriptors = pd.DataFrame.from_dict(descriptors, orient='index').T\n",
    "\n",
    "descriptors['smiles'] = df.iloc[1,1]\n",
    "descriptors['zinc_id'] = df.iloc[1,0]\n",
    "\n",
    "column_names = descriptors.columns.tolist()\n",
    "csv_head = pd.DataFrame(columns=column_names)\n",
    "csv_head = csv_head.iloc[:, -2:].join(csv_head.iloc[:, :-2])\n",
    "csv_head.to_csv(\"Molecular-fingerprint-FDA.csv\")"
   ]
  },
  {
   "cell_type": "code",
   "execution_count": 6,
   "id": "466bcd4c-2db0-46d5-858e-b929a4f69156",
   "metadata": {},
   "outputs": [
    {
     "data": {
      "text/html": [
       "<div>\n",
       "<style scoped>\n",
       "    .dataframe tbody tr th:only-of-type {\n",
       "        vertical-align: middle;\n",
       "    }\n",
       "\n",
       "    .dataframe tbody tr th {\n",
       "        vertical-align: top;\n",
       "    }\n",
       "\n",
       "    .dataframe thead th {\n",
       "        text-align: right;\n",
       "    }\n",
       "</style>\n",
       "<table border=\"1\" class=\"dataframe\">\n",
       "  <thead>\n",
       "    <tr style=\"text-align: right;\">\n",
       "      <th></th>\n",
       "      <th>smiles</th>\n",
       "      <th>zinc_id</th>\n",
       "      <th>PubchemFP0</th>\n",
       "      <th>PubchemFP1</th>\n",
       "      <th>PubchemFP2</th>\n",
       "      <th>PubchemFP3</th>\n",
       "      <th>PubchemFP4</th>\n",
       "      <th>PubchemFP5</th>\n",
       "      <th>PubchemFP6</th>\n",
       "      <th>PubchemFP7</th>\n",
       "      <th>...</th>\n",
       "      <th>PubchemFP871</th>\n",
       "      <th>PubchemFP872</th>\n",
       "      <th>PubchemFP873</th>\n",
       "      <th>PubchemFP874</th>\n",
       "      <th>PubchemFP875</th>\n",
       "      <th>PubchemFP876</th>\n",
       "      <th>PubchemFP877</th>\n",
       "      <th>PubchemFP878</th>\n",
       "      <th>PubchemFP879</th>\n",
       "      <th>PubchemFP880</th>\n",
       "    </tr>\n",
       "  </thead>\n",
       "  <tbody>\n",
       "  </tbody>\n",
       "</table>\n",
       "<p>0 rows × 883 columns</p>\n",
       "</div>"
      ],
      "text/plain": [
       "Empty DataFrame\n",
       "Columns: [smiles, zinc_id, PubchemFP0, PubchemFP1, PubchemFP2, PubchemFP3, PubchemFP4, PubchemFP5, PubchemFP6, PubchemFP7, PubchemFP8, PubchemFP9, PubchemFP10, PubchemFP11, PubchemFP12, PubchemFP13, PubchemFP14, PubchemFP15, PubchemFP16, PubchemFP17, PubchemFP18, PubchemFP19, PubchemFP20, PubchemFP21, PubchemFP22, PubchemFP23, PubchemFP24, PubchemFP25, PubchemFP26, PubchemFP27, PubchemFP28, PubchemFP29, PubchemFP30, PubchemFP31, PubchemFP32, PubchemFP33, PubchemFP34, PubchemFP35, PubchemFP36, PubchemFP37, PubchemFP38, PubchemFP39, PubchemFP40, PubchemFP41, PubchemFP42, PubchemFP43, PubchemFP44, PubchemFP45, PubchemFP46, PubchemFP47, PubchemFP48, PubchemFP49, PubchemFP50, PubchemFP51, PubchemFP52, PubchemFP53, PubchemFP54, PubchemFP55, PubchemFP56, PubchemFP57, PubchemFP58, PubchemFP59, PubchemFP60, PubchemFP61, PubchemFP62, PubchemFP63, PubchemFP64, PubchemFP65, PubchemFP66, PubchemFP67, PubchemFP68, PubchemFP69, PubchemFP70, PubchemFP71, PubchemFP72, PubchemFP73, PubchemFP74, PubchemFP75, PubchemFP76, PubchemFP77, PubchemFP78, PubchemFP79, PubchemFP80, PubchemFP81, PubchemFP82, PubchemFP83, PubchemFP84, PubchemFP85, PubchemFP86, PubchemFP87, PubchemFP88, PubchemFP89, PubchemFP90, PubchemFP91, PubchemFP92, PubchemFP93, PubchemFP94, PubchemFP95, PubchemFP96, PubchemFP97, ...]\n",
       "Index: []\n",
       "\n",
       "[0 rows x 883 columns]"
      ]
     },
     "execution_count": 6,
     "metadata": {},
     "output_type": "execute_result"
    }
   ],
   "source": [
    "csv_head"
   ]
  },
  {
   "cell_type": "code",
   "execution_count": null,
   "id": "a63ad6ff-027f-4fec-9d46-1b11336f00d6",
   "metadata": {},
   "outputs": [],
   "source": [
    "#Loop through original csv and append to csv"
   ]
  },
  {
   "cell_type": "code",
   "execution_count": 41,
   "id": "45463ef2-bb67-4762-a3e4-485ac647e706",
   "metadata": {},
   "outputs": [
    {
     "name": "stdout",
     "output_type": "stream",
     "text": [
      "Molecules checked: 0\n",
      "Molecules checked: 1\n",
      "Molecules checked: 2\n",
      "Molecules checked: 3\n",
      "Molecules checked: 4\n",
      "Molecules checked: 5\n",
      "Molecules checked: 6\n",
      "Molecules checked: 7\n",
      "Molecules checked: 8\n",
      "Molecules checked: 9\n",
      "Molecules checked: 10\n",
      "Molecules checked: 11\n",
      "Molecules checked: 12\n",
      "Molecules checked: 13\n",
      "Molecules checked: 14\n",
      "Molecules checked: 15\n",
      "Molecules checked: 16\n",
      "Molecules checked: 17\n",
      "Molecules checked: 18\n",
      "Molecules checked: 19\n",
      "Molecules checked: 20\n",
      "Molecules checked: 21\n",
      "Molecules checked: 22\n",
      "Molecules checked: 23\n",
      "Molecules checked: 24\n",
      "Molecules checked: 25\n",
      "Molecules checked: 26\n",
      "Molecules checked: 27\n",
      "Molecules checked: 28\n",
      "Molecules checked: 29\n",
      "Molecules checked: 30\n",
      "Molecules checked: 31\n",
      "Molecules checked: 32\n",
      "Molecules checked: 33\n",
      "Molecules checked: 34\n",
      "Molecules checked: 35\n",
      "Molecules checked: 36\n",
      "Molecules checked: 37\n",
      "Molecules checked: 38\n",
      "Molecules checked: 39\n",
      "Molecules checked: 40\n",
      "Molecules checked: 41\n",
      "Molecules checked: 42\n",
      "Molecules checked: 43\n",
      "Molecules checked: 44\n",
      "Molecules checked: 45\n",
      "Molecules checked: 46\n",
      "Molecules checked: 47\n",
      "Molecules checked: 48\n",
      "Molecules checked: 49\n",
      "Molecules checked: 50\n",
      "Molecules checked: 51\n",
      "Molecules checked: 52\n",
      "Molecules checked: 53\n",
      "Molecules checked: 54\n",
      "Molecules checked: 55\n",
      "Molecules checked: 56\n",
      "Molecules checked: 57\n",
      "Molecules checked: 58\n",
      "Molecules checked: 59\n",
      "Molecules checked: 60\n",
      "Molecules checked: 61\n",
      "Molecules checked: 62\n",
      "Molecules checked: 63\n",
      "Molecules checked: 64\n",
      "Molecules checked: 65\n",
      "Molecules checked: 66\n",
      "Molecules checked: 67\n",
      "Molecules checked: 68\n",
      "Molecules checked: 69\n",
      "Molecules checked: 70\n",
      "Molecules checked: 71\n",
      "Molecules checked: 72\n",
      "Molecules checked: 73\n",
      "Molecules checked: 74\n",
      "Molecules checked: 75\n",
      "Molecules checked: 76\n",
      "Molecules checked: 77\n",
      "Molecules checked: 78\n",
      "Molecules checked: 79\n",
      "Molecules checked: 80\n",
      "Molecules checked: 81\n",
      "Molecules checked: 82\n",
      "Molecules checked: 83\n",
      "Molecules checked: 84\n",
      "Molecules checked: 85\n",
      "Molecules checked: 86\n",
      "Molecules checked: 87\n",
      "Molecules checked: 88\n",
      "Molecules checked: 89\n",
      "Molecules checked: 90\n",
      "Molecules checked: 91\n",
      "Molecules checked: 92\n",
      "Molecules checked: 93\n",
      "Molecules checked: 94\n",
      "Molecules checked: 95\n",
      "Molecules checked: 96\n",
      "Molecules checked: 97\n"
     ]
    },
    {
     "ename": "KeyboardInterrupt",
     "evalue": "",
     "output_type": "error",
     "traceback": [
      "\u001b[0;31m---------------------------------------------------------------------------\u001b[0m",
      "\u001b[0;31mKeyboardInterrupt\u001b[0m                         Traceback (most recent call last)",
      "\u001b[0;32m/tmp/ipykernel_34516/1983940727.py\u001b[0m in \u001b[0;36m<module>\u001b[0;34m\u001b[0m\n\u001b[1;32m      1\u001b[0m \u001b[0;32mfor\u001b[0m \u001b[0mi\u001b[0m \u001b[0;32min\u001b[0m \u001b[0mrange\u001b[0m\u001b[0;34m(\u001b[0m\u001b[0;36m0\u001b[0m\u001b[0;34m,\u001b[0m \u001b[0mlen\u001b[0m\u001b[0;34m(\u001b[0m\u001b[0mdf\u001b[0m\u001b[0;34m)\u001b[0m\u001b[0;34m)\u001b[0m\u001b[0;34m:\u001b[0m\u001b[0;34m\u001b[0m\u001b[0;34m\u001b[0m\u001b[0m\n\u001b[1;32m      2\u001b[0m \u001b[0;34m\u001b[0m\u001b[0m\n\u001b[0;32m----> 3\u001b[0;31m     \u001b[0mdescriptors\u001b[0m \u001b[0;34m=\u001b[0m \u001b[0mfrom_smiles\u001b[0m\u001b[0;34m(\u001b[0m\u001b[0mdf\u001b[0m\u001b[0;34m.\u001b[0m\u001b[0miloc\u001b[0m\u001b[0;34m[\u001b[0m\u001b[0mi\u001b[0m\u001b[0;34m,\u001b[0m\u001b[0;36m1\u001b[0m\u001b[0;34m]\u001b[0m\u001b[0;34m,\u001b[0m \u001b[0mfingerprints\u001b[0m\u001b[0;34m=\u001b[0m\u001b[0;32mTrue\u001b[0m\u001b[0;34m,\u001b[0m \u001b[0mdescriptors\u001b[0m\u001b[0;34m=\u001b[0m\u001b[0;32mFalse\u001b[0m\u001b[0;34m)\u001b[0m\u001b[0;34m\u001b[0m\u001b[0;34m\u001b[0m\u001b[0m\n\u001b[0m\u001b[1;32m      4\u001b[0m     \u001b[0mdescriptors\u001b[0m \u001b[0;34m=\u001b[0m \u001b[0mpd\u001b[0m\u001b[0;34m.\u001b[0m\u001b[0mDataFrame\u001b[0m\u001b[0;34m.\u001b[0m\u001b[0mfrom_dict\u001b[0m\u001b[0;34m(\u001b[0m\u001b[0mdescriptors\u001b[0m\u001b[0;34m,\u001b[0m \u001b[0morient\u001b[0m\u001b[0;34m=\u001b[0m\u001b[0;34m'index'\u001b[0m\u001b[0;34m)\u001b[0m\u001b[0;34m.\u001b[0m\u001b[0mT\u001b[0m\u001b[0;34m\u001b[0m\u001b[0;34m\u001b[0m\u001b[0m\n\u001b[1;32m      5\u001b[0m \u001b[0;34m\u001b[0m\u001b[0m\n",
      "\u001b[0;32m~/anaconda3/lib/python3.9/site-packages/padelpy/functions.py\u001b[0m in \u001b[0;36mfrom_smiles\u001b[0;34m(smiles, output_csv, descriptors, fingerprints, timeout, maxruntime, threads)\u001b[0m\n\u001b[1;32m    112\u001b[0m                 \u001b[0;32mexcept\u001b[0m \u001b[0mFileNotFoundError\u001b[0m \u001b[0;32mas\u001b[0m \u001b[0me\u001b[0m\u001b[0;34m:\u001b[0m\u001b[0;34m\u001b[0m\u001b[0;34m\u001b[0m\u001b[0m\n\u001b[1;32m    113\u001b[0m                     \u001b[0mwarnings\u001b[0m\u001b[0;34m.\u001b[0m\u001b[0mwarn\u001b[0m\u001b[0;34m(\u001b[0m\u001b[0me\u001b[0m\u001b[0;34m,\u001b[0m \u001b[0mRuntimeWarning\u001b[0m\u001b[0;34m)\u001b[0m\u001b[0;34m\u001b[0m\u001b[0;34m\u001b[0m\u001b[0m\n\u001b[0;32m--> 114\u001b[0;31m             \u001b[0;32mraise\u001b[0m \u001b[0mkb_exception\u001b[0m\u001b[0;34m\u001b[0m\u001b[0;34m\u001b[0m\u001b[0m\n\u001b[0m\u001b[1;32m    115\u001b[0m \u001b[0;34m\u001b[0m\u001b[0m\n\u001b[1;32m    116\u001b[0m     \u001b[0;32mwith\u001b[0m \u001b[0mopen\u001b[0m\u001b[0;34m(\u001b[0m\u001b[0moutput_csv\u001b[0m\u001b[0;34m,\u001b[0m \u001b[0;34m\"r\"\u001b[0m\u001b[0;34m,\u001b[0m \u001b[0mencoding\u001b[0m\u001b[0;34m=\u001b[0m\u001b[0;34m\"utf-8\"\u001b[0m\u001b[0;34m)\u001b[0m \u001b[0;32mas\u001b[0m \u001b[0mdesc_file\u001b[0m\u001b[0;34m:\u001b[0m\u001b[0;34m\u001b[0m\u001b[0;34m\u001b[0m\u001b[0m\n",
      "\u001b[0;32m~/anaconda3/lib/python3.9/site-packages/padelpy/functions.py\u001b[0m in \u001b[0;36mfrom_smiles\u001b[0;34m(smiles, output_csv, descriptors, fingerprints, timeout, maxruntime, threads)\u001b[0m\n\u001b[1;32m     79\u001b[0m     \u001b[0;32mfor\u001b[0m \u001b[0mattempt\u001b[0m \u001b[0;32min\u001b[0m \u001b[0mrange\u001b[0m\u001b[0;34m(\u001b[0m\u001b[0;36m3\u001b[0m\u001b[0;34m)\u001b[0m\u001b[0;34m:\u001b[0m\u001b[0;34m\u001b[0m\u001b[0;34m\u001b[0m\u001b[0m\n\u001b[1;32m     80\u001b[0m         \u001b[0;32mtry\u001b[0m\u001b[0;34m:\u001b[0m\u001b[0;34m\u001b[0m\u001b[0;34m\u001b[0m\u001b[0m\n\u001b[0;32m---> 81\u001b[0;31m             padeldescriptor(\n\u001b[0m\u001b[1;32m     82\u001b[0m                 \u001b[0mmol_dir\u001b[0m\u001b[0;34m=\u001b[0m\u001b[0;34m\"{}.smi\"\u001b[0m\u001b[0;34m.\u001b[0m\u001b[0mformat\u001b[0m\u001b[0;34m(\u001b[0m\u001b[0mtimestamp\u001b[0m\u001b[0;34m)\u001b[0m\u001b[0;34m,\u001b[0m\u001b[0;34m\u001b[0m\u001b[0;34m\u001b[0m\u001b[0m\n\u001b[1;32m     83\u001b[0m                 \u001b[0md_file\u001b[0m\u001b[0;34m=\u001b[0m\u001b[0moutput_csv\u001b[0m\u001b[0;34m,\u001b[0m\u001b[0;34m\u001b[0m\u001b[0;34m\u001b[0m\u001b[0m\n",
      "\u001b[0;32m~/anaconda3/lib/python3.9/site-packages/padelpy/wrapper.py\u001b[0m in \u001b[0;36mpadeldescriptor\u001b[0;34m(maxruntime, waitingjobs, threads, d_2d, d_3d, config, convert3d, descriptortypes, detectaromaticity, mol_dir, d_file, fingerprints, log, maxcpdperfile, removesalt, retain3d, retainorder, standardizenitro, standardizetautomers, tautomerlist, usefilenameasmolname, sp_timeout, headless)\u001b[0m\n\u001b[1;32m    163\u001b[0m         \u001b[0mcommand\u001b[0m \u001b[0;34m+=\u001b[0m \u001b[0;34m' -usefilenameasmolname'\u001b[0m\u001b[0;34m\u001b[0m\u001b[0;34m\u001b[0m\u001b[0m\n\u001b[1;32m    164\u001b[0m \u001b[0;34m\u001b[0m\u001b[0m\n\u001b[0;32m--> 165\u001b[0;31m     \u001b[0m_\u001b[0m\u001b[0;34m,\u001b[0m \u001b[0merr\u001b[0m \u001b[0;34m=\u001b[0m \u001b[0m_popen_timeout\u001b[0m\u001b[0;34m(\u001b[0m\u001b[0mcommand\u001b[0m\u001b[0;34m,\u001b[0m \u001b[0msp_timeout\u001b[0m\u001b[0;34m)\u001b[0m\u001b[0;34m\u001b[0m\u001b[0;34m\u001b[0m\u001b[0m\n\u001b[0m\u001b[1;32m    166\u001b[0m     \u001b[0;32mif\u001b[0m \u001b[0merr\u001b[0m \u001b[0;34m!=\u001b[0m \u001b[0;34mb''\u001b[0m\u001b[0;34m:\u001b[0m\u001b[0;34m\u001b[0m\u001b[0;34m\u001b[0m\u001b[0m\n\u001b[1;32m    167\u001b[0m         raise RuntimeError('PaDEL-Descriptor encountered an error: {}'.format(\n",
      "\u001b[0;32m~/anaconda3/lib/python3.9/site-packages/padelpy/wrapper.py\u001b[0m in \u001b[0;36m_popen_timeout\u001b[0;34m(command, timeout)\u001b[0m\n\u001b[1;32m     41\u001b[0m     \u001b[0;32mif\u001b[0m \u001b[0mtimeout\u001b[0m \u001b[0;32mis\u001b[0m \u001b[0;32mnot\u001b[0m \u001b[0;32mNone\u001b[0m\u001b[0;34m:\u001b[0m\u001b[0;34m\u001b[0m\u001b[0;34m\u001b[0m\u001b[0m\n\u001b[1;32m     42\u001b[0m         \u001b[0;32mfor\u001b[0m \u001b[0mt\u001b[0m \u001b[0;32min\u001b[0m \u001b[0mrange\u001b[0m\u001b[0;34m(\u001b[0m\u001b[0mtimeout\u001b[0m\u001b[0;34m)\u001b[0m\u001b[0;34m:\u001b[0m\u001b[0;34m\u001b[0m\u001b[0;34m\u001b[0m\u001b[0m\n\u001b[0;32m---> 43\u001b[0;31m             \u001b[0msleep\u001b[0m\u001b[0;34m(\u001b[0m\u001b[0;36m1\u001b[0m\u001b[0;34m)\u001b[0m\u001b[0;34m\u001b[0m\u001b[0;34m\u001b[0m\u001b[0m\n\u001b[0m\u001b[1;32m     44\u001b[0m             \u001b[0;32mif\u001b[0m \u001b[0mp\u001b[0m\u001b[0;34m.\u001b[0m\u001b[0mpoll\u001b[0m\u001b[0;34m(\u001b[0m\u001b[0;34m)\u001b[0m \u001b[0;32mis\u001b[0m \u001b[0;32mnot\u001b[0m \u001b[0;32mNone\u001b[0m\u001b[0;34m:\u001b[0m\u001b[0;34m\u001b[0m\u001b[0;34m\u001b[0m\u001b[0m\n\u001b[1;32m     45\u001b[0m                 \u001b[0;32mreturn\u001b[0m \u001b[0mp\u001b[0m\u001b[0;34m.\u001b[0m\u001b[0mcommunicate\u001b[0m\u001b[0;34m(\u001b[0m\u001b[0;34m)\u001b[0m\u001b[0;34m\u001b[0m\u001b[0;34m\u001b[0m\u001b[0m\n",
      "\u001b[0;31mKeyboardInterrupt\u001b[0m: "
     ]
    }
   ],
   "source": [
    "for i in range(0, len(df)):\n",
    "    \n",
    "    descriptors = from_smiles(df.iloc[i,1], fingerprints=True, descriptors=False)\n",
    "    descriptors = pd.DataFrame.from_dict(descriptors, orient='index').T\n",
    "\n",
    "    descriptors['smiles'] = df.iloc[i,1]\n",
    "    descriptors['zinc_id'] = df.iloc[i,0]\n",
    "    \n",
    "    descriptors = descriptors.iloc[:, -2:].join(descriptors.iloc[:, :-2])\n",
    "\n",
    "    print(\"Molecules checked: \" + str(i))\n",
    "    \n",
    "    descriptors.to_csv(\"Molecular-fingerprint-FDA.csv\", mode='a', index=False, header=False)"
   ]
  }
 ],
 "metadata": {
  "kernelspec": {
   "display_name": "Python 3 (ipykernel)",
   "language": "python",
   "name": "python3"
  },
  "language_info": {
   "codemirror_mode": {
    "name": "ipython",
    "version": 3
   },
   "file_extension": ".py",
   "mimetype": "text/x-python",
   "name": "python",
   "nbconvert_exporter": "python",
   "pygments_lexer": "ipython3",
   "version": "3.9.13"
  }
 },
 "nbformat": 4,
 "nbformat_minor": 5
}
