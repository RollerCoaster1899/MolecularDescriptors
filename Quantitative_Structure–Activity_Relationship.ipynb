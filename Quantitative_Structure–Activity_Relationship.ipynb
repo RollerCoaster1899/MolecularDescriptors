{
  "nbformat": 4,
  "nbformat_minor": 0,
  "metadata": {
    "colab": {
      "provenance": []
    },
    "kernelspec": {
      "name": "python3",
      "display_name": "Python 3"
    },
    "language_info": {
      "name": "python"
    }
  },
  "cells": [
    {
      "cell_type": "code",
      "source": [
        "import numpy as np\n",
        "from chembl_webresource_client.new_client import new_client\n",
        "import pandas as pd\n",
        "from rdkit import Chem\n",
        "from rdkit.Chem import Descriptors, PandasTools, rdMolDescriptors\n",
        "from sklearn.model_selection import train_test_split\n",
        "from sklearn.ensemble import RandomForestRegressor\n",
        "from sklearn.metrics import r2_score\n",
        "import matplotlib.pyplot as plt"
      ],
      "metadata": {
        "id": "hja4iHxbt87c"
      },
      "execution_count": 20,
      "outputs": []
    },
    {
      "cell_type": "code",
      "source": [
        "def target_retrieval(search):\n",
        "    target = new_client.target\n",
        "    target_query = target.search(search)\n",
        "    targets = pd.DataFrame.from_dict(target_query)\n",
        "\n",
        "    return targets\n",
        "\n",
        "def target_info_retrieval(search):\n",
        "    target = search['target_chembl_id'].iloc[0]\n",
        "    activity = new_client.activity\n",
        "    res = activity.filter(target_chembl_id=target, standard_type=\"IC50\")\n",
        "    df_1 = pd.DataFrame.from_dict(res)\n",
        "\n",
        "    return df_1, target\n",
        "\n",
        "def build_qsar_model(data):\n",
        "    # Step 2: Clean the data\n",
        "    df = pd.DataFrame(data)\n",
        "\n",
        "    if 'value' not in df.columns:\n",
        "        print('No data available for the given target and assay type.')\n",
        "        return None\n",
        "\n",
        "    # Step 3: Calculate pIC50\n",
        "    df['value'] = pd.to_numeric(df['value'], errors='coerce')\n",
        "    df['pIC50'] = -np.log10(df['value'] * 1e-9)\n",
        "\n",
        "    # Step 4: Calculate molecular fingerprints\n",
        "    mols = [Chem.MolFromSmiles(smiles) for smiles in df['canonical_smiles']]\n",
        "    fingerprints = [rdMolDescriptors.GetMorganFingerprintAsBitVect(mol, 2) for mol in mols]\n",
        "    fingerprint_array = np.array(fingerprints)\n",
        "    df_fingerprints = pd.DataFrame(fingerprint_array, columns=[f'Bit_{i}' for i in range(fingerprint_array.shape[1])])\n",
        "\n",
        "    # Step 5: Construct a QSAR model\n",
        "    X = df_fingerprints\n",
        "    y = df['pIC50']\n",
        "\n",
        "    X_train, X_test, y_train, y_test = train_test_split(X, y, test_size=0.2, random_state=42)\n",
        "\n",
        "    model = RandomForestRegressor(n_estimators=100, random_state=42)\n",
        "    model.fit(X_train, y_train)\n",
        "\n",
        "    return model, X_test, y_test, df_fingerprints.columns\n",
        "\n",
        "def evaluate_molecule(mol_smiles, model):\n",
        "    if model is None:\n",
        "        print('Model not available. Please build the QSAR model first.')\n",
        "        return None\n",
        "\n",
        "    mol = Chem.MolFromSmiles(mol_smiles)\n",
        "    fingerprint = rdMolDescriptors.GetMorganFingerprintAsBitVect(mol, 2)\n",
        "    X = pd.DataFrame([list(fingerprint)], columns=[f'Bit_{i}' for i in range(fingerprint.GetNumBits())])\n",
        "    pIC50 = model.predict(X)\n",
        "    return pIC50[0]\n",
        "\n",
        "def plot_predicted_vs_real(y_test, y_pred):\n",
        "    plt.scatter(y_test, y_pred, alpha=0.5)\n",
        "    plt.plot([min(y_test), max(y_test)], [min(y_test), max(y_test)], 'r--')\n",
        "    plt.xlabel('Real pIC50')\n",
        "    plt.ylabel('Predicted pIC50')\n",
        "    plt.title('Predicted vs. Real pIC50')\n",
        "    plt.show()\n",
        "\n",
        "def identify_pharmacophores(feature_importance, fingerprint_columns, threshold=0.01):\n",
        "    pharmacophores = []\n",
        "    for i, importance in enumerate(feature_importance):\n",
        "        if importance > threshold:\n",
        "            pharmacophores.append(fingerprint_columns[i])\n",
        "    return pharmacophores\n",
        "\n",
        "def draw_molecule(smiles):\n",
        "    mol = Chem.MolFromSmiles(smiles)\n",
        "    if mol is not None:\n",
        "        Chem.SanitizeMol(mol)\n",
        "        return Chem.Draw.MolToImage(mol)\n",
        "    else:\n",
        "        return None"
      ],
      "metadata": {
        "id": "6-R6kjBZ0cp-"
      },
      "execution_count": 21,
      "outputs": []
    },
    {
      "cell_type": "code",
      "source": [
        "# Example usage\n",
        "search_term = \"CHEMBL3813586\"\n",
        "df_targets = target_retrieval(search_term)\n",
        "df_activity, target_id = target_info_retrieval(df_targets)\n",
        "model, X_test, y_test, fingerprint_columns = build_qsar_model(df_activity)"
      ],
      "metadata": {
        "id": "bIrHg1-T2UQL"
      },
      "execution_count": 22,
      "outputs": []
    },
    {
      "cell_type": "code",
      "source": [
        "# Example molecule evaluation\n",
        "test_mol_smiles = 'CC(=O)NC1=CC=CC=C1'\n",
        "pIC50 = evaluate_molecule(test_mol_smiles, model)\n",
        "if pIC50 is not None:\n",
        "    print(f'Predicted pIC50: {pIC50}')"
      ],
      "metadata": {
        "colab": {
          "base_uri": "https://localhost:8080/"
        },
        "id": "e4526XEL2W4p",
        "outputId": "55c7fcb8-eb42-47bb-9004-c16dac1ae966"
      },
      "execution_count": 23,
      "outputs": [
        {
          "output_type": "stream",
          "name": "stdout",
          "text": [
            "Predicted pIC50: 5.61367963970021\n"
          ]
        }
      ]
    },
    {
      "cell_type": "code",
      "source": [
        "# Print target information and activity data\n",
        "print(\"Target Information:\")\n",
        "print(df_targets)\n",
        "print(\"\\nActivity Data:\")\n",
        "print(df_activity)"
      ],
      "metadata": {
        "colab": {
          "base_uri": "https://localhost:8080/"
        },
        "id": "xqSqErbG2Y62",
        "outputId": "7d26b64f-0d0f-437f-f2ab-1d7d7cb3a354"
      },
      "execution_count": 24,
      "outputs": [
        {
          "output_type": "stream",
          "name": "stdout",
          "text": [
            "Target Information:\n",
            "  cross_references                               organism  \\\n",
            "0               []  Staphylococcus aureus (strain Newman)   \n",
            "\n",
            "                    pref_name  score  species_group_flag target_chembl_id  \\\n",
            "0  Dehydrosqualene desaturase   17.0               False    CHEMBL3813586   \n",
            "\n",
            "                                   target_components     target_type  tax_id  \n",
            "0  [{'accession': 'O07855', 'component_descriptio...  SINGLE PROTEIN  426430  \n",
            "\n",
            "Activity Data:\n",
            "    action_type activity_comment  activity_id activity_properties  \\\n",
            "0          None             None     16612471                  []   \n",
            "1          None             None     16612472                  []   \n",
            "2          None             None     16612473                  []   \n",
            "3          None             None     16612474                  []   \n",
            "4          None             None     16612475                  []   \n",
            "..          ...              ...          ...                 ...   \n",
            "293        None             None     18705303                  []   \n",
            "294        None             None     18705304                  []   \n",
            "295        None             None     18705305                  []   \n",
            "296        None             None     18705306                  []   \n",
            "297        None             None     18705307                  []   \n",
            "\n",
            "    assay_chembl_id                                  assay_description  \\\n",
            "0     CHEMBL3817518  Inhibition of Staphylococcus aureus Newman 6Hi...   \n",
            "1     CHEMBL3817518  Inhibition of Staphylococcus aureus Newman 6Hi...   \n",
            "2     CHEMBL3817518  Inhibition of Staphylococcus aureus Newman 6Hi...   \n",
            "3     CHEMBL3817518  Inhibition of Staphylococcus aureus Newman 6Hi...   \n",
            "4     CHEMBL3817518  Inhibition of Staphylococcus aureus Newman 6Hi...   \n",
            "..              ...                                                ...   \n",
            "293   CHEMBL4255803  Inhibition of CrtN in Staphylococcus aureus Ne...   \n",
            "294   CHEMBL4255803  Inhibition of CrtN in Staphylococcus aureus Ne...   \n",
            "295   CHEMBL4255803  Inhibition of CrtN in Staphylococcus aureus Ne...   \n",
            "296   CHEMBL4255803  Inhibition of CrtN in Staphylococcus aureus Ne...   \n",
            "297   CHEMBL4255803  Inhibition of CrtN in Staphylococcus aureus Ne...   \n",
            "\n",
            "    assay_type assay_variant_accession assay_variant_mutation bao_endpoint  \\\n",
            "0            B                    None                   None  BAO_0000190   \n",
            "1            B                    None                   None  BAO_0000190   \n",
            "2            B                    None                   None  BAO_0000190   \n",
            "3            B                    None                   None  BAO_0000190   \n",
            "4            B                    None                   None  BAO_0000190   \n",
            "..         ...                     ...                    ...          ...   \n",
            "293          B                    None                   None  BAO_0000190   \n",
            "294          B                    None                   None  BAO_0000190   \n",
            "295          B                    None                   None  BAO_0000190   \n",
            "296          B                    None                   None  BAO_0000190   \n",
            "297          B                    None                   None  BAO_0000190   \n",
            "\n",
            "     ...            target_pref_name target_tax_id text_value  toid  type  \\\n",
            "0    ...  Dehydrosqualene desaturase        426430       None  None  IC50   \n",
            "1    ...  Dehydrosqualene desaturase        426430       None  None  IC50   \n",
            "2    ...  Dehydrosqualene desaturase        426430       None  None  IC50   \n",
            "3    ...  Dehydrosqualene desaturase        426430       None  None  IC50   \n",
            "4    ...  Dehydrosqualene desaturase        426430       None  None  IC50   \n",
            "..   ...                         ...           ...        ...   ...   ...   \n",
            "293  ...  Dehydrosqualene desaturase        426430       None  None  IC50   \n",
            "294  ...  Dehydrosqualene desaturase        426430       None  None  IC50   \n",
            "295  ...  Dehydrosqualene desaturase        426430       None  None  IC50   \n",
            "296  ...  Dehydrosqualene desaturase        426430       None  None  IC50   \n",
            "297  ...  Dehydrosqualene desaturase        426430       None  None  IC50   \n",
            "\n",
            "    units    uo_units  upper_value   value     pIC50  \n",
            "0      nM  UO_0000065         None  8830.0  5.054039  \n",
            "1      nM  UO_0000065         None   740.2  6.130651  \n",
            "2      nM  UO_0000065         None   338.8  6.470057  \n",
            "3      nM  UO_0000065         None   355.1  6.449649  \n",
            "4      nM  UO_0000065         None   219.0  6.659556  \n",
            "..    ...         ...          ...     ...       ...  \n",
            "293    nM  UO_0000065         None     3.2  8.494850  \n",
            "294    nM  UO_0000065         None     8.2  8.086186  \n",
            "295    nM  UO_0000065         None     6.7  8.173925  \n",
            "296    nM  UO_0000065         None    20.1  7.696804  \n",
            "297    nM  UO_0000065         None   370.9  6.430743  \n",
            "\n",
            "[298 rows x 47 columns]\n"
          ]
        }
      ]
    },
    {
      "cell_type": "code",
      "source": [
        "# Generate plots\n",
        "y_pred = model.predict(X_test)\n",
        "plot_predicted_vs_real(y_test, y_pred)"
      ],
      "metadata": {
        "colab": {
          "base_uri": "https://localhost:8080/",
          "height": 472
        },
        "id": "O5-nAzBA2bnD",
        "outputId": "f7e020da-267c-4842-e47f-7ebca59b7004"
      },
      "execution_count": 25,
      "outputs": [
        {
          "output_type": "display_data",
          "data": {
            "text/plain": [
              "<Figure size 640x480 with 1 Axes>"
            ],
            "image/png": "[encoded data removed]"
          },
          "metadata": {}
        }
      ]
    }
  ]
}